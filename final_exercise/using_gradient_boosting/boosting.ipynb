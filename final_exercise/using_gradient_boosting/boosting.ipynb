{
 "cells": [
  {
   "cell_type": "code",
   "execution_count": null,
   "metadata": {},
   "outputs": [],
   "source": [
    "import pandas as pd\n",
    "import numpy as np"
   ]
  },
  {
   "cell_type": "code",
   "execution_count": null,
   "metadata": {},
   "outputs": [],
   "source": [
    "data = '/Users/leona/OneDrive/Documentos/GitHub/machine-learning-studies/final_exercise/recipeData.csv'\n",
    "\n",
    "df = pd.read_csv(data, encoding='ISO-8859-1')\n",
    "print(df.shape)\n",
    "for style, count in df['StyleID'].value_counts().items():\n",
    "    if count < 1000:\n",
    "        df = df[df['StyleID'] != style]\n",
    "        \n",
    "for i, e in df.isna().sum().items():\n",
    "    if e > 20000:\n",
    "        df.drop(i, axis=1, inplace=True)\n",
    "\n",
    "df.fillna(df['PitchRate'].median(), inplace=True)\n",
    "for column, has_na in df.isna().any().items():\n",
    "    if has_na:\n",
    "        df.fillna(df[column].mean(), inplace=True)\n",
    "\n",
    "df.drop(columns=['URL', 'Name', 'BeerID', 'Style'], axis=1, inplace=True)\n",
    "\n",
    "df['SugarScale'] = df['SugarScale'].replace('Specific Gravity', 0)\n",
    "df['SugarScale'] = df['SugarScale'].replace('Plato', 1)\n",
    "df = pd.get_dummies(df, columns=['BrewMethod'], dtype=int)\n",
    "\n",
    "print(df.shape)"
   ]
  },
  {
   "cell_type": "code",
   "execution_count": null,
   "metadata": {},
   "outputs": [],
   "source": [
    "x = df.drop(columns='StyleID', axis=1)\n",
    "y = df['StyleID']"
   ]
  },
  {
   "cell_type": "code",
   "execution_count": null,
   "metadata": {},
   "outputs": [],
   "source": [
    "from sklearn.ensemble import GradientBoostingClassifier\n",
    "from sklearn.model_selection import cross_val_score, StratifiedKFold"
   ]
  },
  {
   "cell_type": "code",
   "execution_count": null,
   "metadata": {},
   "outputs": [],
   "source": [
    "model = GradientBoostingClassifier(n_estimators=300)\n",
    "strat = StratifiedKFold(n_splits=3)\n",
    "result = cross_val_score(model, x, y, cv=strat, n_jobs=-1)\n",
    "\n",
    "print(result.mean())"
   ]
  }
 ],
 "metadata": {
  "language_info": {
   "name": "python"
  }
 },
 "nbformat": 4,
 "nbformat_minor": 2
}
