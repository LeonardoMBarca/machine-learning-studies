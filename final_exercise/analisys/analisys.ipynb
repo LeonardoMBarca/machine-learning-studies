{
 "cells": [
  {
   "cell_type": "code",
   "execution_count": 834,
   "metadata": {},
   "outputs": [],
   "source": [
    "import pandas as pd\n",
    "import matplotlib.pyplot as plt\n",
    "import seaborn as sns"
   ]
  },
  {
   "cell_type": "code",
   "execution_count": 835,
   "metadata": {},
   "outputs": [],
   "source": [
    "data = '/Users/leona/OneDrive/Documentos/GitHub/machine-learning-studies/final_exercise/recipeData.csv'"
   ]
  },
  {
   "cell_type": "code",
   "execution_count": 836,
   "metadata": {},
   "outputs": [],
   "source": [
    "df = pd.read_csv(data, encoding='ISO-8859-1')"
   ]
  },
  {
   "cell_type": "code",
   "execution_count": 837,
   "metadata": {},
   "outputs": [
    {
     "data": {
      "text/html": [
       "<div>\n",
       "<style scoped>\n",
       "    .dataframe tbody tr th:only-of-type {\n",
       "        vertical-align: middle;\n",
       "    }\n",
       "\n",
       "    .dataframe tbody tr th {\n",
       "        vertical-align: top;\n",
       "    }\n",
       "\n",
       "    .dataframe thead th {\n",
       "        text-align: right;\n",
       "    }\n",
       "</style>\n",
       "<table border=\"1\" class=\"dataframe\">\n",
       "  <thead>\n",
       "    <tr style=\"text-align: right;\">\n",
       "      <th></th>\n",
       "      <th>BeerID</th>\n",
       "      <th>Name</th>\n",
       "      <th>URL</th>\n",
       "      <th>Style</th>\n",
       "      <th>StyleID</th>\n",
       "      <th>Size(L)</th>\n",
       "      <th>OG</th>\n",
       "      <th>FG</th>\n",
       "      <th>ABV</th>\n",
       "      <th>IBU</th>\n",
       "      <th>...</th>\n",
       "      <th>BoilGravity</th>\n",
       "      <th>Efficiency</th>\n",
       "      <th>MashThickness</th>\n",
       "      <th>SugarScale</th>\n",
       "      <th>BrewMethod</th>\n",
       "      <th>PitchRate</th>\n",
       "      <th>PrimaryTemp</th>\n",
       "      <th>PrimingMethod</th>\n",
       "      <th>PrimingAmount</th>\n",
       "      <th>UserId</th>\n",
       "    </tr>\n",
       "  </thead>\n",
       "  <tbody>\n",
       "    <tr>\n",
       "      <th>0</th>\n",
       "      <td>1</td>\n",
       "      <td>Vanilla Cream Ale</td>\n",
       "      <td>/homebrew/recipe/view/1633/vanilla-cream-ale</td>\n",
       "      <td>Cream Ale</td>\n",
       "      <td>45</td>\n",
       "      <td>21.77</td>\n",
       "      <td>1.055</td>\n",
       "      <td>1.013</td>\n",
       "      <td>5.48</td>\n",
       "      <td>17.65</td>\n",
       "      <td>...</td>\n",
       "      <td>1.038</td>\n",
       "      <td>70.0</td>\n",
       "      <td>NaN</td>\n",
       "      <td>Specific Gravity</td>\n",
       "      <td>All Grain</td>\n",
       "      <td>NaN</td>\n",
       "      <td>17.78</td>\n",
       "      <td>corn sugar</td>\n",
       "      <td>4.5 oz</td>\n",
       "      <td>116.0</td>\n",
       "    </tr>\n",
       "    <tr>\n",
       "      <th>1</th>\n",
       "      <td>2</td>\n",
       "      <td>Southern Tier Pumking clone</td>\n",
       "      <td>/homebrew/recipe/view/16367/southern-tier-pumk...</td>\n",
       "      <td>Holiday/Winter Special Spiced Beer</td>\n",
       "      <td>85</td>\n",
       "      <td>20.82</td>\n",
       "      <td>1.083</td>\n",
       "      <td>1.021</td>\n",
       "      <td>8.16</td>\n",
       "      <td>60.65</td>\n",
       "      <td>...</td>\n",
       "      <td>1.070</td>\n",
       "      <td>70.0</td>\n",
       "      <td>NaN</td>\n",
       "      <td>Specific Gravity</td>\n",
       "      <td>All Grain</td>\n",
       "      <td>NaN</td>\n",
       "      <td>NaN</td>\n",
       "      <td>NaN</td>\n",
       "      <td>NaN</td>\n",
       "      <td>955.0</td>\n",
       "    </tr>\n",
       "    <tr>\n",
       "      <th>2</th>\n",
       "      <td>3</td>\n",
       "      <td>Zombie Dust Clone - EXTRACT</td>\n",
       "      <td>/homebrew/recipe/view/5920/zombie-dust-clone-e...</td>\n",
       "      <td>American IPA</td>\n",
       "      <td>7</td>\n",
       "      <td>18.93</td>\n",
       "      <td>1.063</td>\n",
       "      <td>1.018</td>\n",
       "      <td>5.91</td>\n",
       "      <td>59.25</td>\n",
       "      <td>...</td>\n",
       "      <td>NaN</td>\n",
       "      <td>70.0</td>\n",
       "      <td>NaN</td>\n",
       "      <td>Specific Gravity</td>\n",
       "      <td>extract</td>\n",
       "      <td>NaN</td>\n",
       "      <td>NaN</td>\n",
       "      <td>NaN</td>\n",
       "      <td>NaN</td>\n",
       "      <td>NaN</td>\n",
       "    </tr>\n",
       "    <tr>\n",
       "      <th>3</th>\n",
       "      <td>4</td>\n",
       "      <td>Zombie Dust Clone - ALL GRAIN</td>\n",
       "      <td>/homebrew/recipe/view/5916/zombie-dust-clone-a...</td>\n",
       "      <td>American IPA</td>\n",
       "      <td>7</td>\n",
       "      <td>22.71</td>\n",
       "      <td>1.061</td>\n",
       "      <td>1.017</td>\n",
       "      <td>5.80</td>\n",
       "      <td>54.48</td>\n",
       "      <td>...</td>\n",
       "      <td>NaN</td>\n",
       "      <td>70.0</td>\n",
       "      <td>NaN</td>\n",
       "      <td>Specific Gravity</td>\n",
       "      <td>All Grain</td>\n",
       "      <td>NaN</td>\n",
       "      <td>NaN</td>\n",
       "      <td>NaN</td>\n",
       "      <td>NaN</td>\n",
       "      <td>NaN</td>\n",
       "    </tr>\n",
       "    <tr>\n",
       "      <th>4</th>\n",
       "      <td>5</td>\n",
       "      <td>Bakke Brygg Belgisk Blonde 50 l</td>\n",
       "      <td>/homebrew/recipe/view/89534/bakke-brygg-belgis...</td>\n",
       "      <td>Belgian Blond Ale</td>\n",
       "      <td>20</td>\n",
       "      <td>50.00</td>\n",
       "      <td>1.060</td>\n",
       "      <td>1.010</td>\n",
       "      <td>6.48</td>\n",
       "      <td>17.84</td>\n",
       "      <td>...</td>\n",
       "      <td>1.050</td>\n",
       "      <td>72.0</td>\n",
       "      <td>NaN</td>\n",
       "      <td>Specific Gravity</td>\n",
       "      <td>All Grain</td>\n",
       "      <td>NaN</td>\n",
       "      <td>19.00</td>\n",
       "      <td>Sukkerlake</td>\n",
       "      <td>6-7 g sukker/l</td>\n",
       "      <td>18325.0</td>\n",
       "    </tr>\n",
       "  </tbody>\n",
       "</table>\n",
       "<p>5 rows × 23 columns</p>\n",
       "</div>"
      ],
      "text/plain": [
       "   BeerID                             Name  \\\n",
       "0       1                Vanilla Cream Ale   \n",
       "1       2      Southern Tier Pumking clone   \n",
       "2       3      Zombie Dust Clone - EXTRACT   \n",
       "3       4    Zombie Dust Clone - ALL GRAIN   \n",
       "4       5  Bakke Brygg Belgisk Blonde 50 l   \n",
       "\n",
       "                                                 URL  \\\n",
       "0       /homebrew/recipe/view/1633/vanilla-cream-ale   \n",
       "1  /homebrew/recipe/view/16367/southern-tier-pumk...   \n",
       "2  /homebrew/recipe/view/5920/zombie-dust-clone-e...   \n",
       "3  /homebrew/recipe/view/5916/zombie-dust-clone-a...   \n",
       "4  /homebrew/recipe/view/89534/bakke-brygg-belgis...   \n",
       "\n",
       "                                Style  StyleID  Size(L)     OG     FG   ABV  \\\n",
       "0                           Cream Ale       45    21.77  1.055  1.013  5.48   \n",
       "1  Holiday/Winter Special Spiced Beer       85    20.82  1.083  1.021  8.16   \n",
       "2                        American IPA        7    18.93  1.063  1.018  5.91   \n",
       "3                        American IPA        7    22.71  1.061  1.017  5.80   \n",
       "4                   Belgian Blond Ale       20    50.00  1.060  1.010  6.48   \n",
       "\n",
       "     IBU  ...  BoilGravity  Efficiency  MashThickness        SugarScale  \\\n",
       "0  17.65  ...        1.038        70.0            NaN  Specific Gravity   \n",
       "1  60.65  ...        1.070        70.0            NaN  Specific Gravity   \n",
       "2  59.25  ...          NaN        70.0            NaN  Specific Gravity   \n",
       "3  54.48  ...          NaN        70.0            NaN  Specific Gravity   \n",
       "4  17.84  ...        1.050        72.0            NaN  Specific Gravity   \n",
       "\n",
       "   BrewMethod  PitchRate PrimaryTemp PrimingMethod   PrimingAmount   UserId  \n",
       "0   All Grain        NaN       17.78    corn sugar          4.5 oz    116.0  \n",
       "1   All Grain        NaN         NaN           NaN             NaN    955.0  \n",
       "2     extract        NaN         NaN           NaN             NaN      NaN  \n",
       "3   All Grain        NaN         NaN           NaN             NaN      NaN  \n",
       "4   All Grain        NaN       19.00    Sukkerlake  6-7 g sukker/l  18325.0  \n",
       "\n",
       "[5 rows x 23 columns]"
      ]
     },
     "execution_count": 837,
     "metadata": {},
     "output_type": "execute_result"
    }
   ],
   "source": [
    "df.head()"
   ]
  },
  {
   "cell_type": "code",
   "execution_count": 838,
   "metadata": {},
   "outputs": [
    {
     "data": {
      "text/plain": [
       "(73861, 23)"
      ]
     },
     "execution_count": 838,
     "metadata": {},
     "output_type": "execute_result"
    }
   ],
   "source": [
    "df.shape"
   ]
  },
  {
   "cell_type": "code",
   "execution_count": 839,
   "metadata": {},
   "outputs": [
    {
     "data": {
      "text/plain": [
       "StyleID\n",
       "7      11940\n",
       "10      7581\n",
       "134     2617\n",
       "9       2277\n",
       "4       2038\n",
       "       ...  \n",
       "99         6\n",
       "16         6\n",
       "127        5\n",
       "164        2\n",
       "73         2\n",
       "Name: count, Length: 176, dtype: int64"
      ]
     },
     "execution_count": 839,
     "metadata": {},
     "output_type": "execute_result"
    }
   ],
   "source": [
    "df['StyleID'].value_counts()"
   ]
  },
  {
   "cell_type": "code",
   "execution_count": 840,
   "metadata": {},
   "outputs": [
    {
     "data": {
      "text/plain": [
       "StyleID\n",
       "7      11940\n",
       "10      7581\n",
       "134     2617\n",
       "9       2277\n",
       "4       2038\n",
       "30      1753\n",
       "86      1478\n",
       "12      1268\n",
       "92      1204\n",
       "6       1152\n",
       "175     1072\n",
       "39      1044\n",
       "Name: count, dtype: int64"
      ]
     },
     "execution_count": 840,
     "metadata": {},
     "output_type": "execute_result"
    }
   ],
   "source": [
    "for style, count in df['StyleID'].value_counts().items():\n",
    "    if count < 1000:\n",
    "        df = df[df['StyleID'] != style]\n",
    "df['StyleID'].value_counts()"
   ]
  },
  {
   "cell_type": "code",
   "execution_count": 841,
   "metadata": {},
   "outputs": [
    {
     "data": {
      "text/plain": [
       "(35424, 23)"
      ]
     },
     "execution_count": 841,
     "metadata": {},
     "output_type": "execute_result"
    }
   ],
   "source": [
    "df.shape"
   ]
  },
  {
   "cell_type": "code",
   "execution_count": 842,
   "metadata": {},
   "outputs": [],
   "source": [
    "df.drop(columns=['URL', 'Name', 'BeerID', 'Style'], axis=1, inplace=True)"
   ]
  },
  {
   "cell_type": "code",
   "execution_count": 843,
   "metadata": {},
   "outputs": [
    {
     "data": {
      "text/plain": [
       "StyleID              0\n",
       "Size(L)              0\n",
       "OG                   0\n",
       "FG                   0\n",
       "ABV                  0\n",
       "IBU                  0\n",
       "Color                0\n",
       "BoilSize             0\n",
       "BoilTime             0\n",
       "BoilGravity       1300\n",
       "Efficiency           0\n",
       "MashThickness    14495\n",
       "SugarScale           0\n",
       "BrewMethod           0\n",
       "PitchRate        19549\n",
       "PrimaryTemp      11265\n",
       "PrimingMethod    32534\n",
       "PrimingAmount    33369\n",
       "UserId           24556\n",
       "dtype: int64"
      ]
     },
     "execution_count": 843,
     "metadata": {},
     "output_type": "execute_result"
    }
   ],
   "source": [
    "df.isna().sum()"
   ]
  },
  {
   "cell_type": "code",
   "execution_count": 844,
   "metadata": {},
   "outputs": [],
   "source": [
    "for i, e in df.isna().sum().items():\n",
    "    if e > 20000:\n",
    "        df.drop(i, axis=1, inplace=True)"
   ]
  },
  {
   "cell_type": "code",
   "execution_count": 845,
   "metadata": {},
   "outputs": [
    {
     "data": {
      "text/plain": [
       "StyleID              0\n",
       "Size(L)              0\n",
       "OG                   0\n",
       "FG                   0\n",
       "ABV                  0\n",
       "IBU                  0\n",
       "Color                0\n",
       "BoilSize             0\n",
       "BoilTime             0\n",
       "BoilGravity       1300\n",
       "Efficiency           0\n",
       "MashThickness    14495\n",
       "SugarScale           0\n",
       "BrewMethod           0\n",
       "PitchRate        19549\n",
       "PrimaryTemp      11265\n",
       "dtype: int64"
      ]
     },
     "execution_count": 845,
     "metadata": {},
     "output_type": "execute_result"
    }
   ],
   "source": [
    "df.isna().sum()"
   ]
  },
  {
   "cell_type": "code",
   "execution_count": 846,
   "metadata": {},
   "outputs": [
    {
     "data": {
      "image/png": "[encoded data removed]",
      "text/plain": [
       "<Figure size 640x480 with 1 Axes>"
      ]
     },
     "metadata": {},
     "output_type": "display_data"
    }
   ],
   "source": [
    "df.boxplot(column=['BoilGravity', 'MashThickness', 'PitchRate', 'PrimaryTemp'])\n",
    "plt.show()"
   ]
  },
  {
   "cell_type": "code",
   "execution_count": 847,
   "metadata": {},
   "outputs": [
    {
     "data": {
      "image/png": "[encoded data removed]",
      "text/plain": [
       "<Figure size 640x480 with 4 Axes>"
      ]
     },
     "metadata": {},
     "output_type": "display_data"
    }
   ],
   "source": [
    "df.hist(column=['BoilGravity', 'MashThickness', 'PitchRate', 'PrimaryTemp'], bins=20)\n",
    "plt.show()"
   ]
  },
  {
   "cell_type": "code",
   "execution_count": 848,
   "metadata": {},
   "outputs": [],
   "source": [
    "df.fillna(df['PitchRate'].median(), inplace=True)\n",
    "for column, has_na in df.isna().any().items():\n",
    "    if has_na:\n",
    "        df.fillna(df[column].mean(), inplace=True)"
   ]
  },
  {
   "cell_type": "code",
   "execution_count": 849,
   "metadata": {},
   "outputs": [
    {
     "data": {
      "text/plain": [
       "StyleID          0\n",
       "Size(L)          0\n",
       "OG               0\n",
       "FG               0\n",
       "ABV              0\n",
       "IBU              0\n",
       "Color            0\n",
       "BoilSize         0\n",
       "BoilTime         0\n",
       "BoilGravity      0\n",
       "Efficiency       0\n",
       "MashThickness    0\n",
       "SugarScale       0\n",
       "BrewMethod       0\n",
       "PitchRate        0\n",
       "PrimaryTemp      0\n",
       "dtype: int64"
      ]
     },
     "execution_count": 849,
     "metadata": {},
     "output_type": "execute_result"
    }
   ],
   "source": [
    "df.isna().sum()"
   ]
  },
  {
   "cell_type": "code",
   "execution_count": 850,
   "metadata": {},
   "outputs": [
    {
     "data": {
      "text/plain": [
       "(35424, 16)"
      ]
     },
     "execution_count": 850,
     "metadata": {},
     "output_type": "execute_result"
    }
   ],
   "source": [
    "df.shape"
   ]
  },
  {
   "cell_type": "code",
   "execution_count": 851,
   "metadata": {},
   "outputs": [
    {
     "data": {
      "text/plain": [
       "SugarScale\n",
       "Specific Gravity    34605\n",
       "Plato                 819\n",
       "Name: count, dtype: int64"
      ]
     },
     "metadata": {},
     "output_type": "display_data"
    },
    {
     "data": {
      "text/plain": [
       "BrewMethod\n",
       "All Grain       23594\n",
       "BIAB             5779\n",
       "extract          4377\n",
       "Partial Mash     1674\n",
       "Name: count, dtype: int64"
      ]
     },
     "metadata": {},
     "output_type": "display_data"
    }
   ],
   "source": [
    "display(df['SugarScale'].value_counts())\n",
    "display(df['BrewMethod'].value_counts())"
   ]
  },
  {
   "cell_type": "code",
   "execution_count": 852,
   "metadata": {},
   "outputs": [],
   "source": [
    "df = pd.get_dummies(df, columns=['BrewMethod'], dtype=int)"
   ]
  },
  {
   "cell_type": "code",
   "execution_count": 853,
   "metadata": {},
   "outputs": [
    {
     "name": "stderr",
     "output_type": "stream",
     "text": [
      "C:\\Users\\leona\\AppData\\Local\\Temp\\ipykernel_35992\\859535671.py:2: FutureWarning: Downcasting behavior in `replace` is deprecated and will be removed in a future version. To retain the old behavior, explicitly call `result.infer_objects(copy=False)`. To opt-in to the future behavior, set `pd.set_option('future.no_silent_downcasting', True)`\n",
      "  df['SugarScale'] = df['SugarScale'].replace('Plato', 1)\n"
     ]
    }
   ],
   "source": [
    "df['SugarScale'] = df['SugarScale'].replace('Specific Gravity', 0)\n",
    "df['SugarScale'] = df['SugarScale'].replace('Plato', 1)"
   ]
  },
  {
   "cell_type": "code",
   "execution_count": 854,
   "metadata": {},
   "outputs": [
    {
     "data": {
      "text/html": [
       "<div>\n",
       "<style scoped>\n",
       "    .dataframe tbody tr th:only-of-type {\n",
       "        vertical-align: middle;\n",
       "    }\n",
       "\n",
       "    .dataframe tbody tr th {\n",
       "        vertical-align: top;\n",
       "    }\n",
       "\n",
       "    .dataframe thead th {\n",
       "        text-align: right;\n",
       "    }\n",
       "</style>\n",
       "<table border=\"1\" class=\"dataframe\">\n",
       "  <thead>\n",
       "    <tr style=\"text-align: right;\">\n",
       "      <th></th>\n",
       "      <th>StyleID</th>\n",
       "      <th>Size(L)</th>\n",
       "      <th>OG</th>\n",
       "      <th>FG</th>\n",
       "      <th>ABV</th>\n",
       "      <th>IBU</th>\n",
       "      <th>Color</th>\n",
       "      <th>BoilSize</th>\n",
       "      <th>BoilTime</th>\n",
       "      <th>BoilGravity</th>\n",
       "      <th>Efficiency</th>\n",
       "      <th>MashThickness</th>\n",
       "      <th>SugarScale</th>\n",
       "      <th>PitchRate</th>\n",
       "      <th>PrimaryTemp</th>\n",
       "      <th>BrewMethod_All Grain</th>\n",
       "      <th>BrewMethod_BIAB</th>\n",
       "      <th>BrewMethod_Partial Mash</th>\n",
       "      <th>BrewMethod_extract</th>\n",
       "    </tr>\n",
       "  </thead>\n",
       "  <tbody>\n",
       "    <tr>\n",
       "      <th>2</th>\n",
       "      <td>7</td>\n",
       "      <td>18.93</td>\n",
       "      <td>1.063</td>\n",
       "      <td>1.018</td>\n",
       "      <td>5.91</td>\n",
       "      <td>59.25</td>\n",
       "      <td>8.98</td>\n",
       "      <td>22.71</td>\n",
       "      <td>60</td>\n",
       "      <td>0.750</td>\n",
       "      <td>70.0</td>\n",
       "      <td>0.75</td>\n",
       "      <td>0</td>\n",
       "      <td>0.75</td>\n",
       "      <td>0.75</td>\n",
       "      <td>0</td>\n",
       "      <td>0</td>\n",
       "      <td>0</td>\n",
       "      <td>1</td>\n",
       "    </tr>\n",
       "    <tr>\n",
       "      <th>3</th>\n",
       "      <td>7</td>\n",
       "      <td>22.71</td>\n",
       "      <td>1.061</td>\n",
       "      <td>1.017</td>\n",
       "      <td>5.80</td>\n",
       "      <td>54.48</td>\n",
       "      <td>8.50</td>\n",
       "      <td>26.50</td>\n",
       "      <td>60</td>\n",
       "      <td>0.750</td>\n",
       "      <td>70.0</td>\n",
       "      <td>0.75</td>\n",
       "      <td>0</td>\n",
       "      <td>0.75</td>\n",
       "      <td>0.75</td>\n",
       "      <td>1</td>\n",
       "      <td>0</td>\n",
       "      <td>0</td>\n",
       "      <td>0</td>\n",
       "    </tr>\n",
       "    <tr>\n",
       "      <th>5</th>\n",
       "      <td>10</td>\n",
       "      <td>24.61</td>\n",
       "      <td>1.055</td>\n",
       "      <td>1.013</td>\n",
       "      <td>5.58</td>\n",
       "      <td>40.12</td>\n",
       "      <td>8.00</td>\n",
       "      <td>29.34</td>\n",
       "      <td>70</td>\n",
       "      <td>1.047</td>\n",
       "      <td>79.0</td>\n",
       "      <td>0.75</td>\n",
       "      <td>0</td>\n",
       "      <td>1.00</td>\n",
       "      <td>0.75</td>\n",
       "      <td>1</td>\n",
       "      <td>0</td>\n",
       "      <td>0</td>\n",
       "      <td>0</td>\n",
       "    </tr>\n",
       "    <tr>\n",
       "      <th>6</th>\n",
       "      <td>86</td>\n",
       "      <td>22.71</td>\n",
       "      <td>1.072</td>\n",
       "      <td>1.018</td>\n",
       "      <td>7.09</td>\n",
       "      <td>268.71</td>\n",
       "      <td>6.33</td>\n",
       "      <td>30.28</td>\n",
       "      <td>90</td>\n",
       "      <td>0.750</td>\n",
       "      <td>75.0</td>\n",
       "      <td>0.75</td>\n",
       "      <td>0</td>\n",
       "      <td>0.75</td>\n",
       "      <td>0.75</td>\n",
       "      <td>1</td>\n",
       "      <td>0</td>\n",
       "      <td>0</td>\n",
       "      <td>0</td>\n",
       "    </tr>\n",
       "    <tr>\n",
       "      <th>9</th>\n",
       "      <td>86</td>\n",
       "      <td>20.82</td>\n",
       "      <td>1.080</td>\n",
       "      <td>1.017</td>\n",
       "      <td>8.22</td>\n",
       "      <td>93.02</td>\n",
       "      <td>8.29</td>\n",
       "      <td>28.39</td>\n",
       "      <td>60</td>\n",
       "      <td>1.058</td>\n",
       "      <td>70.0</td>\n",
       "      <td>0.75</td>\n",
       "      <td>0</td>\n",
       "      <td>0.75</td>\n",
       "      <td>21.11</td>\n",
       "      <td>1</td>\n",
       "      <td>0</td>\n",
       "      <td>0</td>\n",
       "      <td>0</td>\n",
       "    </tr>\n",
       "  </tbody>\n",
       "</table>\n",
       "</div>"
      ],
      "text/plain": [
       "   StyleID  Size(L)     OG     FG   ABV     IBU  Color  BoilSize  BoilTime  \\\n",
       "2        7    18.93  1.063  1.018  5.91   59.25   8.98     22.71        60   \n",
       "3        7    22.71  1.061  1.017  5.80   54.48   8.50     26.50        60   \n",
       "5       10    24.61  1.055  1.013  5.58   40.12   8.00     29.34        70   \n",
       "6       86    22.71  1.072  1.018  7.09  268.71   6.33     30.28        90   \n",
       "9       86    20.82  1.080  1.017  8.22   93.02   8.29     28.39        60   \n",
       "\n",
       "   BoilGravity  Efficiency  MashThickness  SugarScale  PitchRate  PrimaryTemp  \\\n",
       "2        0.750        70.0           0.75           0       0.75         0.75   \n",
       "3        0.750        70.0           0.75           0       0.75         0.75   \n",
       "5        1.047        79.0           0.75           0       1.00         0.75   \n",
       "6        0.750        75.0           0.75           0       0.75         0.75   \n",
       "9        1.058        70.0           0.75           0       0.75        21.11   \n",
       "\n",
       "   BrewMethod_All Grain  BrewMethod_BIAB  BrewMethod_Partial Mash  \\\n",
       "2                     0                0                        0   \n",
       "3                     1                0                        0   \n",
       "5                     1                0                        0   \n",
       "6                     1                0                        0   \n",
       "9                     1                0                        0   \n",
       "\n",
       "   BrewMethod_extract  \n",
       "2                   1  \n",
       "3                   0  \n",
       "5                   0  \n",
       "6                   0  \n",
       "9                   0  "
      ]
     },
     "execution_count": 854,
     "metadata": {},
     "output_type": "execute_result"
    }
   ],
   "source": [
    "df.head()"
   ]
  },
  {
   "cell_type": "code",
   "execution_count": 855,
   "metadata": {},
   "outputs": [
    {
     "data": {
      "image/png": "[encoded data removed]",
      "text/plain": [
       "<Figure size 1000x800 with 2 Axes>"
      ]
     },
     "metadata": {},
     "output_type": "display_data"
    }
   ],
   "source": [
    "df1 = df.drop('StyleID', axis=1)\n",
    "plt.figure(figsize=(10, 8))\n",
    "sns.heatmap(df1.corr())\n",
    "plt.show()"
   ]
  },
  {
   "cell_type": "code",
   "execution_count": 856,
   "metadata": {},
   "outputs": [],
   "source": [
    "numeric_cols = ['Size(L)', 'OG', 'FG', 'ABV', 'IBU', 'Color', 'BoilSize', 'BoilTime', 'BoilGravity', 'Efficiency', 'MashThickness', 'PrimaryTemp']\n",
    "\n",
    "scaler = MinMaxScaler()\n",
    "\n",
    "df[numeric_cols] = scaler.fit_transform(df[numeric_cols])"
   ]
  },
  {
   "cell_type": "code",
   "execution_count": 857,
   "metadata": {},
   "outputs": [
    {
     "data": {
      "text/html": [
       "<div>\n",
       "<style scoped>\n",
       "    .dataframe tbody tr th:only-of-type {\n",
       "        vertical-align: middle;\n",
       "    }\n",
       "\n",
       "    .dataframe tbody tr th {\n",
       "        vertical-align: top;\n",
       "    }\n",
       "\n",
       "    .dataframe thead th {\n",
       "        text-align: right;\n",
       "    }\n",
       "</style>\n",
       "<table border=\"1\" class=\"dataframe\">\n",
       "  <thead>\n",
       "    <tr style=\"text-align: right;\">\n",
       "      <th></th>\n",
       "      <th>StyleID</th>\n",
       "      <th>Size(L)</th>\n",
       "      <th>OG</th>\n",
       "      <th>FG</th>\n",
       "      <th>ABV</th>\n",
       "      <th>IBU</th>\n",
       "      <th>Color</th>\n",
       "      <th>BoilSize</th>\n",
       "      <th>BoilTime</th>\n",
       "      <th>BoilGravity</th>\n",
       "      <th>Efficiency</th>\n",
       "      <th>MashThickness</th>\n",
       "      <th>SugarScale</th>\n",
       "      <th>PitchRate</th>\n",
       "      <th>PrimaryTemp</th>\n",
       "      <th>BrewMethod_All Grain</th>\n",
       "      <th>BrewMethod_BIAB</th>\n",
       "      <th>BrewMethod_Partial Mash</th>\n",
       "      <th>BrewMethod_extract</th>\n",
       "    </tr>\n",
       "  </thead>\n",
       "  <tbody>\n",
       "    <tr>\n",
       "      <th>2</th>\n",
       "      <td>7</td>\n",
       "      <td>0.002939</td>\n",
       "      <td>0.002807</td>\n",
       "      <td>0.058665</td>\n",
       "      <td>0.108004</td>\n",
       "      <td>0.026968</td>\n",
       "      <td>0.082651</td>\n",
       "      <td>0.003364</td>\n",
       "      <td>0.250000</td>\n",
       "      <td>0.019531</td>\n",
       "      <td>0.70</td>\n",
       "      <td>0.011905</td>\n",
       "      <td>0</td>\n",
       "      <td>0.75</td>\n",
       "      <td>0.180288</td>\n",
       "      <td>0</td>\n",
       "      <td>0</td>\n",
       "      <td>0</td>\n",
       "      <td>1</td>\n",
       "    </tr>\n",
       "    <tr>\n",
       "      <th>3</th>\n",
       "      <td>7</td>\n",
       "      <td>0.003558</td>\n",
       "      <td>0.002718</td>\n",
       "      <td>0.058526</td>\n",
       "      <td>0.105994</td>\n",
       "      <td>0.024797</td>\n",
       "      <td>0.078233</td>\n",
       "      <td>0.003952</td>\n",
       "      <td>0.250000</td>\n",
       "      <td>0.019531</td>\n",
       "      <td>0.70</td>\n",
       "      <td>0.011905</td>\n",
       "      <td>0</td>\n",
       "      <td>0.75</td>\n",
       "      <td>0.180288</td>\n",
       "      <td>1</td>\n",
       "      <td>0</td>\n",
       "      <td>0</td>\n",
       "      <td>0</td>\n",
       "    </tr>\n",
       "    <tr>\n",
       "      <th>5</th>\n",
       "      <td>10</td>\n",
       "      <td>0.003870</td>\n",
       "      <td>0.002450</td>\n",
       "      <td>0.057966</td>\n",
       "      <td>0.101974</td>\n",
       "      <td>0.018261</td>\n",
       "      <td>0.073631</td>\n",
       "      <td>0.004392</td>\n",
       "      <td>0.291667</td>\n",
       "      <td>0.027266</td>\n",
       "      <td>0.79</td>\n",
       "      <td>0.011905</td>\n",
       "      <td>0</td>\n",
       "      <td>1.00</td>\n",
       "      <td>0.180288</td>\n",
       "      <td>1</td>\n",
       "      <td>0</td>\n",
       "      <td>0</td>\n",
       "      <td>0</td>\n",
       "    </tr>\n",
       "    <tr>\n",
       "      <th>6</th>\n",
       "      <td>86</td>\n",
       "      <td>0.003558</td>\n",
       "      <td>0.003208</td>\n",
       "      <td>0.058665</td>\n",
       "      <td>0.129569</td>\n",
       "      <td>0.122304</td>\n",
       "      <td>0.058260</td>\n",
       "      <td>0.004537</td>\n",
       "      <td>0.375000</td>\n",
       "      <td>0.019531</td>\n",
       "      <td>0.75</td>\n",
       "      <td>0.011905</td>\n",
       "      <td>0</td>\n",
       "      <td>0.75</td>\n",
       "      <td>0.180288</td>\n",
       "      <td>1</td>\n",
       "      <td>0</td>\n",
       "      <td>0</td>\n",
       "      <td>0</td>\n",
       "    </tr>\n",
       "    <tr>\n",
       "      <th>9</th>\n",
       "      <td>86</td>\n",
       "      <td>0.003249</td>\n",
       "      <td>0.003564</td>\n",
       "      <td>0.058526</td>\n",
       "      <td>0.150219</td>\n",
       "      <td>0.042338</td>\n",
       "      <td>0.076300</td>\n",
       "      <td>0.004244</td>\n",
       "      <td>0.250000</td>\n",
       "      <td>0.027552</td>\n",
       "      <td>0.70</td>\n",
       "      <td>0.011905</td>\n",
       "      <td>0</td>\n",
       "      <td>0.75</td>\n",
       "      <td>0.378381</td>\n",
       "      <td>1</td>\n",
       "      <td>0</td>\n",
       "      <td>0</td>\n",
       "      <td>0</td>\n",
       "    </tr>\n",
       "  </tbody>\n",
       "</table>\n",
       "</div>"
      ],
      "text/plain": [
       "   StyleID   Size(L)        OG        FG       ABV       IBU     Color  \\\n",
       "2        7  0.002939  0.002807  0.058665  0.108004  0.026968  0.082651   \n",
       "3        7  0.003558  0.002718  0.058526  0.105994  0.024797  0.078233   \n",
       "5       10  0.003870  0.002450  0.057966  0.101974  0.018261  0.073631   \n",
       "6       86  0.003558  0.003208  0.058665  0.129569  0.122304  0.058260   \n",
       "9       86  0.003249  0.003564  0.058526  0.150219  0.042338  0.076300   \n",
       "\n",
       "   BoilSize  BoilTime  BoilGravity  Efficiency  MashThickness  SugarScale  \\\n",
       "2  0.003364  0.250000     0.019531        0.70       0.011905           0   \n",
       "3  0.003952  0.250000     0.019531        0.70       0.011905           0   \n",
       "5  0.004392  0.291667     0.027266        0.79       0.011905           0   \n",
       "6  0.004537  0.375000     0.019531        0.75       0.011905           0   \n",
       "9  0.004244  0.250000     0.027552        0.70       0.011905           0   \n",
       "\n",
       "   PitchRate  PrimaryTemp  BrewMethod_All Grain  BrewMethod_BIAB  \\\n",
       "2       0.75     0.180288                     0                0   \n",
       "3       0.75     0.180288                     1                0   \n",
       "5       1.00     0.180288                     1                0   \n",
       "6       0.75     0.180288                     1                0   \n",
       "9       0.75     0.378381                     1                0   \n",
       "\n",
       "   BrewMethod_Partial Mash  BrewMethod_extract  \n",
       "2                        0                   1  \n",
       "3                        0                   0  \n",
       "5                        0                   0  \n",
       "6                        0                   0  \n",
       "9                        0                   0  "
      ]
     },
     "execution_count": 857,
     "metadata": {},
     "output_type": "execute_result"
    }
   ],
   "source": [
    "df.head()"
   ]
  }
 ],
 "metadata": {
  "kernelspec": {
   "display_name": "Python 3",
   "language": "python",
   "name": "python3"
  },
  "language_info": {
   "codemirror_mode": {
    "name": "ipython",
    "version": 3
   },
   "file_extension": ".py",
   "mimetype": "text/x-python",
   "name": "python",
   "nbconvert_exporter": "python",
   "pygments_lexer": "ipython3",
   "version": "3.12.2"
  }
 },
 "nbformat": 4,
 "nbformat_minor": 2
}
