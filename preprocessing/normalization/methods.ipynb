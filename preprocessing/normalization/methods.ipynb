{
 "cells": [
  {
   "cell_type": "code",
   "execution_count": 4,
   "metadata": {},
   "outputs": [],
   "source": [
    "x = [[4, 1, 2, 2], [1, 3, 9, 3], [5, 7, 5, 1]]"
   ]
  },
  {
   "cell_type": "code",
   "execution_count": 5,
   "metadata": {},
   "outputs": [
    {
     "name": "stdout",
     "output_type": "stream",
     "text": [
      "[[0.75       0.         0.         0.5       ]\n",
      " [0.         0.33333333 1.         1.        ]\n",
      " [1.         1.         0.42857143 0.        ]]\n"
     ]
    }
   ],
   "source": [
    "# MinMaxScaler\n",
    "from sklearn.preprocessing import MinMaxScaler\n",
    "\n",
    "normalization = MinMaxScaler(feature_range=(0, 1))\n",
    "result = normalization.fit_transform(x)\n",
    "print(result)"
   ]
  },
  {
   "cell_type": "code",
   "execution_count": 6,
   "metadata": {},
   "outputs": [
    {
     "name": "stdout",
     "output_type": "stream",
     "text": [
      "[[ 0.39223227 -1.06904497 -1.16247639  0.        ]\n",
      " [-1.37281295 -0.26726124  1.27872403  1.22474487]\n",
      " [ 0.98058068  1.33630621 -0.11624764 -1.22474487]]\n"
     ]
    }
   ],
   "source": [
    "# StandardScaler\n",
    "from sklearn.preprocessing import StandardScaler\n",
    "\n",
    "normalization = StandardScaler()\n",
    "result = normalization.fit_transform(x)\n",
    "print(result)"
   ]
  },
  {
   "cell_type": "code",
   "execution_count": 7,
   "metadata": {},
   "outputs": [
    {
     "name": "stdout",
     "output_type": "stream",
     "text": [
      "[[0.8        0.14285714 0.22222222 0.66666667]\n",
      " [0.2        0.42857143 1.         1.        ]\n",
      " [1.         1.         0.55555556 0.33333333]]\n"
     ]
    }
   ],
   "source": [
    "# MaxAbsScaler\n",
    "from sklearn.preprocessing import MaxAbsScaler\n",
    "\n",
    "normalization = MaxAbsScaler()\n",
    "result = normalization.fit_transform(x)\n",
    "print(result)"
   ]
  },
  {
   "cell_type": "code",
   "execution_count": 8,
   "metadata": {},
   "outputs": [
    {
     "name": "stdout",
     "output_type": "stream",
     "text": [
      "[[0.44444444 0.11111111 0.22222222 0.22222222]\n",
      " [0.0625     0.1875     0.5625     0.1875    ]\n",
      " [0.27777778 0.38888889 0.27777778 0.05555556]]\n",
      "[[0.4        0.09090909 0.125      0.33333333]\n",
      " [0.1        0.27272727 0.5625     0.5       ]\n",
      " [0.5        0.63636364 0.3125     0.16666667]]\n",
      "[[0.8 0.2 0.4 0.4]\n",
      " [0.1 0.3 0.9 0.3]\n",
      " [0.5 0.7 0.5 0.1]]\n",
      "[[0.6172134  0.13018891 0.19069252 0.53452248]\n",
      " [0.15430335 0.39056673 0.85811633 0.80178373]\n",
      " [0.77151675 0.91132238 0.47673129 0.26726124]]\n",
      "[[1.         0.25       0.5        0.5       ]\n",
      " [0.11111111 0.33333333 1.         0.33333333]\n",
      " [0.71428571 1.         0.71428571 0.14285714]]\n",
      "[[0.8        0.14285714 0.22222222 0.66666667]\n",
      " [0.2        0.42857143 1.         1.        ]\n",
      " [1.         1.         0.55555556 0.33333333]]\n"
     ]
    }
   ],
   "source": [
    "# normalize \n",
    "from sklearn.preprocessing import normalize\n",
    "\n",
    "# L1 line\n",
    "norml1 = normalize(x, norm='l1')\n",
    "# L1 column\n",
    "norml1c = normalize(x, norm='l1', axis=0)\n",
    "\n",
    "# L2 line\n",
    "norml2 = normalize(x, norm='l2')\n",
    "# L2 columns\n",
    "norml2c = normalize(x, norm='l2', axis=0)\n",
    "\n",
    "# Max line\n",
    "normmax = normalize(x, norm='max')\n",
    "# Max column\n",
    "normmaxc = normalize(x, norm='max', axis=0)\n",
    "\n",
    "print(norml1)\n",
    "print(norml1c)\n",
    "print(norml2)\n",
    "print(norml2c)\n",
    "print(normmax)\n",
    "print(normmaxc)"
   ]
  }
 ],
 "metadata": {
  "kernelspec": {
   "display_name": "Python 3",
   "language": "python",
   "name": "python3"
  },
  "language_info": {
   "codemirror_mode": {
    "name": "ipython",
    "version": 3
   },
   "file_extension": ".py",
   "mimetype": "text/x-python",
   "name": "python",
   "nbconvert_exporter": "python",
   "pygments_lexer": "ipython3",
   "version": "3.12.2"
  }
 },
 "nbformat": 4,
 "nbformat_minor": 2
}
