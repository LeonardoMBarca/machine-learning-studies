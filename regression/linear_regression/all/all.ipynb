{
 "cells": [
  {
   "cell_type": "code",
   "execution_count": 1,
   "metadata": {},
   "outputs": [],
   "source": [
    "import pandas as pd\n",
    "from sklearn.model_selection import train_test_split"
   ]
  },
  {
   "cell_type": "code",
   "execution_count": 2,
   "metadata": {},
   "outputs": [],
   "source": [
    "arquivo = '/Users/leona/OneDrive/Documentos/GitHub/Machine-Learning-Module-1-studies/regression/kc_house_data.csv'\n",
    "df = pd.read_csv(arquivo)\n",
    "\n",
    "df.drop(columns=['id', 'date', 'zipcode', 'lat', 'long'], axis=1, inplace=True)\n",
    "\n",
    "for i in df.columns:\n",
    "    if df[i].dtype == object:\n",
    "        df.drop(columns=i, axis=1, inplace=True)\n",
    "for i in df.columns:\n",
    "    corr = df['price'].corr(df[i])\n",
    "    if corr < 0.2:\n",
    "        df.drop(columns=i, axis=1, inplace=True)\n",
    "\n",
    "x = df.drop(columns='price', axis=1)\n",
    "y = df['price']\n",
    "\n",
    "x_train, x_test, y_train, y_test = train_test_split(x, y, test_size=30, random_state=14)"
   ]
  },
  {
   "cell_type": "code",
   "execution_count": 3,
   "metadata": {},
   "outputs": [],
   "source": [
    "def models(a, b, c, d):\n",
    "    from sklearn.linear_model import LinearRegression\n",
    "    from sklearn.linear_model import Ridge\n",
    "    from sklearn.linear_model import Lasso\n",
    "    from sklearn.linear_model import ElasticNet\n",
    "    model = LinearRegression()\n",
    "    model_ridge = Ridge()\n",
    "    model_lasso = Lasso()\n",
    "    model_elasticnet = ElasticNet()\n",
    "    \n",
    "    x_train = a\n",
    "    x_test = b\n",
    "    y_train = c\n",
    "    y_test = d\n",
    "    \n",
    "    model.fit(x_train, y_train)\n",
    "    model_ridge.fit(x_train, y_train)\n",
    "    model_lasso.fit(x_train, y_train)\n",
    "    model_elasticnet.fit(x_train, y_train)\n",
    "    list = {\n",
    "        'Linear': model.score(x_test, y_test),\n",
    "        'Ridge': model_ridge.score(x_test, y_test),\n",
    "        'Lasso': model_lasso.score(x_test, y_test),\n",
    "        'Elastic Net': model_elasticnet.score(x_test, y_test)\n",
    "    }\n",
    "    maxi = max(list, key=list.get)\n",
    "    print(f'Best model: {maxi}. Score: {list[maxi]}')\n",
    "    print(list)"
   ]
  },
  {
   "cell_type": "code",
   "execution_count": 4,
   "metadata": {},
   "outputs": [
    {
     "name": "stdout",
     "output_type": "stream",
     "text": [
      "Best model: Ridge. Score: 0.659891911075974\n",
      "{'Linear': 0.6558071354832773, 'Ridge': 0.659891911075974, 'Lasso': 0.6595377208606178, 'Elastic Net': 0.5239405313344105}\n"
     ]
    },
    {
     "name": "stderr",
     "output_type": "stream",
     "text": [
      "c:\\Users\\leona\\AppData\\Local\\Programs\\Python\\Python312\\Lib\\site-packages\\sklearn\\linear_model\\_coordinate_descent.py:678: ConvergenceWarning: Objective did not converge. You might want to increase the number of iterations, check the scale of the features or consider increasing regularisation. Duality gap: 6.591e+14, tolerance: 2.907e+11\n",
      "  model = cd_fast.enet_coordinate_descent(\n"
     ]
    }
   ],
   "source": [
    "models(x_train, x_test, y_train, y_test)"
   ]
  }
 ],
 "metadata": {
  "kernelspec": {
   "display_name": "Python 3",
   "language": "python",
   "name": "python3"
  },
  "language_info": {
   "codemirror_mode": {
    "name": "ipython",
    "version": 3
   },
   "file_extension": ".py",
   "mimetype": "text/x-python",
   "name": "python",
   "nbconvert_exporter": "python",
   "pygments_lexer": "ipython3",
   "version": "3.12.2"
  }
 },
 "nbformat": 4,
 "nbformat_minor": 2
}
