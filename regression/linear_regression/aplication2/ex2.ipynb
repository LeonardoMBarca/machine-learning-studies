{
 "cells": [
  {
   "cell_type": "code",
   "execution_count": 1,
   "metadata": {},
   "outputs": [],
   "source": [
    "import pandas as pd\n",
    "from sklearn.model_selection import train_test_split"
   ]
  },
  {
   "cell_type": "code",
   "execution_count": 2,
   "metadata": {},
   "outputs": [],
   "source": [
    "arquivo = '/Users/leona/OneDrive/Documentos/GitHub/Machine-Learning-Module-1-studies/regression/Admission_Predict_Ver1.1.csv'\n",
    "df = pd.read_csv(arquivo)\n",
    "for i in df.columns:\n",
    "    if df[i].dtype != float:\n",
    "        df[i] = df[i].astype(float)\n",
    "for i in df.columns:\n",
    "    corr = df['Chance of Admit'].corr(df[i])\n",
    "    if corr < 0.2:\n",
    "        df.drop(columns=i, axis=1, inplace=True)\n",
    "        \n",
    "x = df.drop(columns='Chance of Admit')\n",
    "y = df['Chance of Admit']\n",
    "\n",
    "x_train, x_test, y_train, y_test = train_test_split(x, y, test_size=30, random_state=14)"
   ]
  },
  {
   "cell_type": "code",
   "execution_count": 3,
   "metadata": {},
   "outputs": [],
   "source": [
    "def models(a, b, c, d):\n",
    "    from sklearn.linear_model import LinearRegression\n",
    "    from sklearn.linear_model import Ridge\n",
    "    from sklearn.linear_model import Lasso\n",
    "    from sklearn.linear_model import ElasticNet\n",
    "    \n",
    "    x_train = a\n",
    "    x_test = b\n",
    "    y_train = c\n",
    "    y_test = d\n",
    "    \n",
    "    model = LinearRegression()\n",
    "    model_ridge = Ridge()\n",
    "    model_lasso = Lasso()\n",
    "    model_elasticnet = ElasticNet()\n",
    "    \n",
    "    model.fit(x_train, y_train)\n",
    "    model_ridge.fit(x_train, y_train)\n",
    "    model_lasso.fit(x_train, y_train)\n",
    "    model_elasticnet.fit(x_train, y_train)\n",
    "    \n",
    "   \n",
    "    result = model.score(x_test, y_test),\n",
    "    result_ridge = model_ridge.score(x_test, y_test),\n",
    "    result_lasso = model_lasso.score(x_test, y_test),\n",
    "    result_elasticnet = model_elasticnet.score(x_test, y_test)\n",
    "    dict = {\"Linear Regression\": result, \"Ridge Regression\": result_ridge, \"Lasso Regression\": result_lasso, \"ElasticNet\": result_elasticnet}\n",
    "    best_score = max(dict, key=dict.get)\n",
    "    print(dict)\n",
    "    print(f'Best Model: {best_score}. Score: {dict[best_score]}')"
   ]
  },
  {
   "cell_type": "code",
   "execution_count": 4,
   "metadata": {},
   "outputs": [
    {
     "name": "stdout",
     "output_type": "stream",
     "text": [
      "{'Linear Regression': (0.7076449201186137,), 'Ridge Regression': (0.708670581345056,), 'Lasso Regression': (0.23139537257371023,), 'ElasticNet': 0.47163443471319955}\n",
      "Best Model: Ridge Regression. Score: (0.708670581345056,)\n"
     ]
    }
   ],
   "source": [
    "models(x_train, x_test, y_train, y_test)"
   ]
  }
 ],
 "metadata": {
  "kernelspec": {
   "display_name": "Python 3",
   "language": "python",
   "name": "python3"
  },
  "language_info": {
   "codemirror_mode": {
    "name": "ipython",
    "version": 3
   },
   "file_extension": ".py",
   "mimetype": "text/x-python",
   "name": "python",
   "nbconvert_exporter": "python",
   "pygments_lexer": "ipython3",
   "version": "3.12.2"
  }
 },
 "nbformat": 4,
 "nbformat_minor": 2
}
