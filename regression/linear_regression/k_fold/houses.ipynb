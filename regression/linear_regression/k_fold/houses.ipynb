{
 "cells": [
  {
   "cell_type": "code",
   "execution_count": 1,
   "metadata": {},
   "outputs": [],
   "source": [
    "import pandas as pd\n",
    "from sklearn.model_selection import cross_val_score\n",
    "from sklearn.model_selection import KFold"
   ]
  },
  {
   "cell_type": "code",
   "execution_count": 2,
   "metadata": {},
   "outputs": [],
   "source": [
    "file = '/Users/leona/OneDrive/Documentos/GitHub/Machine-Learning-Module-1-studies/regression/kc_house_data.csv'\n",
    "df = pd.read_csv(file)\n",
    "\n",
    "df.drop(columns=['id', 'zipcode','lat','long'], axis=1, inplace=True)\n",
    "\n",
    "for i in df.columns:\n",
    "    if df[i].dtype == object:\n",
    "        df.drop(columns=i, axis=1, inplace=True)\n",
    "for i in df.columns:\n",
    "    corr = df['price'].corr(df[i])\n",
    "    if corr < 0.2:\n",
    "        df.drop(columns=i, axis=1, inplace=True)\n",
    "\n",
    "x = df.drop(columns='price', axis=1)\n",
    "y = df['price']"
   ]
  },
  {
   "cell_type": "code",
   "execution_count": 3,
   "metadata": {},
   "outputs": [],
   "source": [
    "def models(a, b):\n",
    "    from sklearn.linear_model import LinearRegression\n",
    "    from sklearn.linear_model import Ridge\n",
    "    from sklearn.linear_model import Lasso\n",
    "    from sklearn.linear_model import ElasticNet\n",
    "    \n",
    "    x = a\n",
    "    y = b\n",
    "    \n",
    "    linear = LinearRegression()\n",
    "    ridge = Ridge(alpha=200, max_iter=5000, tol=0.2)\n",
    "    lasso = Lasso(alpha=20, max_iter=5000, tol=0.2)\n",
    "    elasticnet = ElasticNet(alpha=1, l1_ratio=0.5, max_iter=5000, tol=0.2)\n",
    "    \n",
    "    Kfold = KFold(n_splits=5)\n",
    "    \n",
    "    linear_ = cross_val_score(linear, x, y, cv=Kfold)\n",
    "    ridge_ = cross_val_score(ridge, x, y, cv=Kfold)\n",
    "    lasso_ = cross_val_score(lasso, x, y, cv=Kfold)\n",
    "    elasticnet_ = cross_val_score(elasticnet, x, y, cv=Kfold)\n",
    "    \n",
    "    list = {\n",
    "        'Linear': linear_.mean(),\n",
    "        'Ridge': ridge_.mean(),\n",
    "        'Lasso': lasso_.mean(),\n",
    "        'Elastic Net': elasticnet_.mean()\n",
    "    }\n",
    "    maxi = max(list, key=list.get)\n",
    "    print(f'O melhor modelo foi o {maxi}, tendo score de {list[maxi]}')\n",
    "    print(list)"
   ]
  },
  {
   "cell_type": "code",
   "execution_count": 4,
   "metadata": {},
   "outputs": [
    {
     "name": "stderr",
     "output_type": "stream",
     "text": [
      "c:\\Users\\leona\\AppData\\Local\\Programs\\Python\\Python312\\Lib\\site-packages\\sklearn\\linear_model\\_coordinate_descent.py:678: ConvergenceWarning: Objective did not converge. You might want to increase the number of iterations, check the scale of the features or consider increasing regularisation. Duality gap: 5.106e+14, tolerance: 4.516e+14\n",
      "  model = cd_fast.enet_coordinate_descent(\n",
      "c:\\Users\\leona\\AppData\\Local\\Programs\\Python\\Python312\\Lib\\site-packages\\sklearn\\linear_model\\_coordinate_descent.py:678: ConvergenceWarning: Objective did not converge. You might want to increase the number of iterations, check the scale of the features or consider increasing regularisation. Duality gap: 5.218e+14, tolerance: 4.612e+14\n",
      "  model = cd_fast.enet_coordinate_descent(\n",
      "c:\\Users\\leona\\AppData\\Local\\Programs\\Python\\Python312\\Lib\\site-packages\\sklearn\\linear_model\\_coordinate_descent.py:678: ConvergenceWarning: Objective did not converge. You might want to increase the number of iterations, check the scale of the features or consider increasing regularisation. Duality gap: 5.421e+14, tolerance: 4.813e+14\n",
      "  model = cd_fast.enet_coordinate_descent(\n",
      "c:\\Users\\leona\\AppData\\Local\\Programs\\Python\\Python312\\Lib\\site-packages\\sklearn\\linear_model\\_coordinate_descent.py:678: ConvergenceWarning: Objective did not converge. You might want to increase the number of iterations, check the scale of the features or consider increasing regularisation. Duality gap: 5.393e+14, tolerance: 4.729e+14\n",
      "  model = cd_fast.enet_coordinate_descent(\n"
     ]
    },
    {
     "name": "stdout",
     "output_type": "stream",
     "text": [
      "O melhor modelo foi o Lasso, tendo score de 0.5917112569957829\n",
      "{'Linear': 0.591587872775561, 'Ridge': 0.5857642782625835, 'Lasso': 0.5917112569957829, 'Elastic Net': 0.5603306587279814}\n"
     ]
    },
    {
     "name": "stderr",
     "output_type": "stream",
     "text": [
      "c:\\Users\\leona\\AppData\\Local\\Programs\\Python\\Python312\\Lib\\site-packages\\sklearn\\linear_model\\_coordinate_descent.py:678: ConvergenceWarning: Objective did not converge. You might want to increase the number of iterations, check the scale of the features or consider increasing regularisation. Duality gap: 5.264e+14, tolerance: 4.630e+14\n",
      "  model = cd_fast.enet_coordinate_descent(\n"
     ]
    }
   ],
   "source": [
    "models(x, y)"
   ]
  }
 ],
 "metadata": {
  "kernelspec": {
   "display_name": "Python 3",
   "language": "python",
   "name": "python3"
  },
  "language_info": {
   "codemirror_mode": {
    "name": "ipython",
    "version": 3
   },
   "file_extension": ".py",
   "mimetype": "text/x-python",
   "name": "python",
   "nbconvert_exporter": "python",
   "pygments_lexer": "ipython3",
   "version": "3.12.2"
  }
 },
 "nbformat": 4,
 "nbformat_minor": 2
}
