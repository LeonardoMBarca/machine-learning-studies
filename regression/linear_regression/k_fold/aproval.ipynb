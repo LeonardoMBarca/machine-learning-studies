{
 "cells": [
  {
   "cell_type": "code",
   "execution_count": 1,
   "metadata": {},
   "outputs": [],
   "source": [
    "import pandas as pd\n",
    "from sklearn.model_selection import cross_val_score\n",
    "from sklearn.model_selection import KFold"
   ]
  },
  {
   "cell_type": "code",
   "execution_count": 2,
   "metadata": {},
   "outputs": [],
   "source": [
    "file = '/Users/leona/OneDrive/Documentos/GitHub/Machine-Learning-Module-1-studies/regression/Admission_Predict_Ver1.1.csv'\n",
    "df = pd.read_csv(file)"
   ]
  },
  {
   "cell_type": "code",
   "execution_count": 3,
   "metadata": {},
   "outputs": [],
   "source": [
    "for i in df.columns:\n",
    "    if df[i].dtype == object:\n",
    "        df.drop(columns=i, axis=1, inplace=True)\n",
    "for i in df.columns:\n",
    "    corr = df['Chance of Admit'].corr(df[i])\n",
    "    if corr < 0.2:\n",
    "        df.drop(columns=i, axis=1, inplace=True)\n",
    "\n",
    "x = df.drop(columns='Chance of Admit', axis=1)\n",
    "y = df['Chance of Admit']"
   ]
  },
  {
   "cell_type": "code",
   "execution_count": 4,
   "metadata": {},
   "outputs": [],
   "source": [
    "def models(a, b):\n",
    "    from sklearn.linear_model import LinearRegression\n",
    "    from sklearn.linear_model import Ridge\n",
    "    from sklearn.linear_model import Lasso\n",
    "    from sklearn.linear_model import ElasticNet\n",
    "    \n",
    "    x = a\n",
    "    y = b\n",
    "    \n",
    "    linear = LinearRegression()\n",
    "    ridge = Ridge()\n",
    "    lasso = Lasso()\n",
    "    elasticnet = ElasticNet()\n",
    "    \n",
    "    Kfold = KFold()\n",
    "    \n",
    "    linear_ = cross_val_score(linear, x, y, cv=Kfold)\n",
    "    ridge_ = cross_val_score(ridge, x, y, cv=Kfold)\n",
    "    lasso_ = cross_val_score(lasso, x, y, cv=Kfold)\n",
    "    elasticnet_ = cross_val_score(elasticnet, x, y, cv=Kfold)\n",
    "    \n",
    "    list = {\n",
    "        'Linear': linear_.mean(),\n",
    "        'Ridge': ridge_.mean(),\n",
    "        'Lasso': lasso_.mean(),\n",
    "        'Elastic Net': elasticnet_.mean()\n",
    "    }\n",
    "    maxi = max(list, key=list.get)\n",
    "    print(f'Best model: {maxi}. Score: {list[maxi]}')\n",
    "    print(list)"
   ]
  },
  {
   "cell_type": "code",
   "execution_count": 5,
   "metadata": {},
   "outputs": [
    {
     "name": "stdout",
     "output_type": "stream",
     "text": [
      "O melhor modelo foi o Linear, tendo score de 0.8108015220863887\n",
      "{'Linear': 0.8108015220863887, 'Ridge': 0.8104316768033144, 'Lasso': 0.2150875751935711, 'Elastic Net': 0.5324389764785071}\n"
     ]
    }
   ],
   "source": [
    "models(x, y)"
   ]
  }
 ],
 "metadata": {
  "kernelspec": {
   "display_name": "Python 3",
   "language": "python",
   "name": "python3"
  },
  "language_info": {
   "codemirror_mode": {
    "name": "ipython",
    "version": 3
   },
   "file_extension": ".py",
   "mimetype": "text/x-python",
   "name": "python",
   "nbconvert_exporter": "python",
   "pygments_lexer": "ipython3",
   "version": "3.12.2"
  }
 },
 "nbformat": 4,
 "nbformat_minor": 2
}
