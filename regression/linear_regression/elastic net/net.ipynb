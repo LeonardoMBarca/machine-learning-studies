{
 "cells": [
  {
   "cell_type": "code",
   "execution_count": 1,
   "metadata": {},
   "outputs": [],
   "source": [
    "import pandas as pd\n",
    "from sklearn.linear_model import LinearRegression\n",
    "from sklearn.linear_model import ElasticNet\n",
    "from sklearn.model_selection import train_test_split"
   ]
  },
  {
   "cell_type": "code",
   "execution_count": 2,
   "metadata": {},
   "outputs": [],
   "source": [
    "file = '/Users/leona/OneDrive/Documentos/GitHub/Machine-Learning-Module-1-studies/regression/kc_house_data.csv'\n",
    "df = pd.read_csv(file)\n",
    "\n",
    "df.drop(columns=['id', 'date', 'zipcode', 'lat', 'long'], axis=1, inplace=True)\n",
    "\n",
    "for i in df.columns:\n",
    "    if df[i].dtype == object:\n",
    "        df.drop(columns=i, axis=1, inplace=True)\n",
    "for i in df.columns:\n",
    "    corr = df['price'].corr(df[i])\n",
    "    if corr < 0.2:\n",
    "        df.drop(columns=i, axis=1, inplace=True)\n",
    "\n",
    "x = df.drop(columns='price', axis=1)\n",
    "y = df['price']"
   ]
  },
  {
   "cell_type": "code",
   "execution_count": 3,
   "metadata": {},
   "outputs": [],
   "source": [
    "x_train, x_test, y_train, y_test = train_test_split(x, y, test_size=30, random_state=14)"
   ]
  },
  {
   "cell_type": "code",
   "execution_count": 4,
   "metadata": {},
   "outputs": [],
   "source": [
    "model = LinearRegression()\n",
    "model_elasticnet = ElasticNet(alpha=1, l1_ratio=0.9, tol=0.1, max_iter=10000)\n",
    "\n",
    "model.fit(x_train, y_train)\n",
    "model_elasticnet.fit(x_train, y_train)\n",
    "\n",
    "result = model.score(x_test, y_test)\n",
    "result_elasticnet = model_elasticnet.score(x_test, y_test)"
   ]
  },
  {
   "cell_type": "code",
   "execution_count": null,
   "metadata": {},
   "outputs": [
    {
     "name": "stdout",
     "output_type": "stream",
     "text": [
      "A taxa de precisão do modelo linear treinado com x_train e y_train em relação a x_test e y_test é 0.6558071354832773\n",
      "A taxa de precisão do modelo linear elastic net treinado com x_train e y_train em relação a x_test e y_test é 0.6066696359590252\n"
     ]
    }
   ],
   "source": [
    "print(f'Linear Regression: {resultado}')\n",
    "print(f'ElasticNet: {resultado_elasticnet}')"
   ]
  }
 ],
 "metadata": {
  "kernelspec": {
   "display_name": "Python 3",
   "language": "python",
   "name": "python3"
  },
  "language_info": {
   "codemirror_mode": {
    "name": "ipython",
    "version": 3
   },
   "file_extension": ".py",
   "mimetype": "text/x-python",
   "name": "python",
   "nbconvert_exporter": "python",
   "pygments_lexer": "ipython3",
   "version": "3.12.2"
  }
 },
 "nbformat": 4,
 "nbformat_minor": 2
}
