{
 "cells": [
  {
   "cell_type": "code",
   "execution_count": 1,
   "metadata": {},
   "outputs": [],
   "source": [
    "import pandas as pd\n",
    "from sklearn.model_selection import GridSearchCV \n",
    "from sklearn.linear_model import ElasticNet"
   ]
  },
  {
   "cell_type": "code",
   "execution_count": 2,
   "metadata": {},
   "outputs": [],
   "source": [
    "file = '/Users/leona/OneDrive/Documentos/GitHub/Machine-Learning-Module-1-studies/regression/Admission_Predict_Ver1.1.csv'\n",
    "df = pd.read_csv(file)\n",
    "\n",
    "df.drop(columns='Serial No.', axis=1, inplace=True)\n",
    "\n",
    "for i in df.columns:\n",
    "    if df[i].dtype == object:\n",
    "        df.drop(columns=i, axis=1, inplace=True)\n",
    "        \n",
    "x = df.drop(columns='Chance of Admit', axis=1)\n",
    "y = df['Chance of Admit']"
   ]
  },
  {
   "cell_type": "code",
   "execution_count": 3,
   "metadata": {},
   "outputs": [],
   "source": [
    "tests = {\n",
    "    'alpha': [0.1, 0.2, 0.3, 0.4, 0.5, 1, 2, 3, 4, 5, 10, 15, 20, 30, 40, 50, 80, 100, 150, 250, 500, 1000],\n",
    "    'l1_ratio': [0.02, 0.05, 0.1, 0.2, 0.3, 0.4, 0.5, 0.55, 0.6, 0.7, 0.75, 0.8, 0.9, 0.95, 0.99]\n",
    "}"
   ]
  },
  {
   "cell_type": "code",
   "execution_count": 4,
   "metadata": {},
   "outputs": [],
   "source": [
    "model = ElasticNet()\n",
    "test = GridSearchCV(estimator=model, param_grid=tests, cv=5)\n",
    "test.fit(x, y)"
   ]
  },
  {
   "cell_type": "code",
   "execution_count": null,
   "metadata": {},
   "outputs": [
    {
     "name": "stdout",
     "output_type": "stream",
     "text": [
      "O melhor resultado é 0.7819021542408082\n",
      "O melhor alpha foi 0.1\n",
      "O melhor l1_ratio foi 0.02\n"
     ]
    }
   ],
   "source": [
    "print(f'Best Score: {test.best_score_}')\n",
    "print(f'Best Alpha {test.best_estimator_.alpha}')\n",
    "print(f'Best L1_ratio {test.best_estimator_.l1_ratio}')"
   ]
  }
 ],
 "metadata": {
  "kernelspec": {
   "display_name": "Python 3",
   "language": "python",
   "name": "python3"
  },
  "language_info": {
   "codemirror_mode": {
    "name": "ipython",
    "version": 3
   },
   "file_extension": ".py",
   "mimetype": "text/x-python",
   "name": "python",
   "nbconvert_exporter": "python",
   "pygments_lexer": "ipython3",
   "version": "3.12.2"
  }
 },
 "nbformat": 4,
 "nbformat_minor": 2
}
