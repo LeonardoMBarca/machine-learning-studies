{
 "cells": [
  {
   "cell_type": "code",
   "execution_count": 1,
   "metadata": {},
   "outputs": [],
   "source": [
    "import pandas as pd\n",
    "from sklearn.model_selection import RandomizedSearchCV\n",
    "from sklearn.model_selection import cross_val_score\n",
    "from sklearn.model_selection import KFold"
   ]
  },
  {
   "cell_type": "code",
   "execution_count": 2,
   "metadata": {},
   "outputs": [],
   "source": [
    "file = '/Users/leona/OneDrive/Documentos/GitHub/Machine-Learning-Module-1-studies/regression/Admission_Predict_Ver1.1.csv'\n",
    "df = pd.read_csv(file)\n",
    "\n",
    "df.drop(columns='Serial No.', axis=1, inplace=True)\n",
    "\n",
    "x = df.drop(columns='Chance of Admit', axis=1)\n",
    "y = df['Chance of Admit']"
   ]
  },
  {
   "cell_type": "code",
   "execution_count": 3,
   "metadata": {},
   "outputs": [],
   "source": [
    "def models(a, b):\n",
    "    from sklearn.linear_model import LinearRegression\n",
    "    from sklearn.linear_model import Ridge\n",
    "    from sklearn.linear_model import Lasso\n",
    "    from sklearn.linear_model import ElasticNet\n",
    "    \n",
    "    x = a\n",
    "    y = b \n",
    "    \n",
    "    tests_ridge_lasso = {\n",
    "        'alpha': [0.1, 0.2, 0.3, 0.4, 0.5, 0.6, 0.7, 0.8, 0.9, 1, 2, 3, 5, 7, 8, 10, 12, 15, 20, 30, 40, 100, 200, 250]\n",
    "    }\n",
    "    tests_elasticnet = {\n",
    "        'alpha': [0.1, 0.2, 0.3, 0.4, 0.5, 1, 2, 3, 4, 5, 10, 15, 20, 30, 40, 50, 80, 100, 150, 250, 500, 1000],\n",
    "        'l1_ratio': [0.02, 0.05, 0.1, 0.2, 0.3, 0.4, 0.5, 0.55, 0.6, 0.7, 0.75, 0.8, 0.9, 0.95, 0.99]\n",
    "    }\n",
    "    \n",
    "    linear = LinearRegression()\n",
    "    ridge = Ridge()\n",
    "    lasso = Lasso()\n",
    "    elasticnet = ElasticNet()\n",
    "    \n",
    "    kfold = KFold(n_splits=5)\n",
    "    result_linear = cross_val_score(linear, x, y, cv=kfold)\n",
    "    \n",
    "    find_ridge = RandomizedSearchCV(estimator= ridge, param_distributions=tests_ridge_lasso, n_iter=300, cv=5, random_state=15)\n",
    "    find_lasso = RandomizedSearchCV(estimator =lasso, param_distributions=tests_ridge_lasso, n_iter=300, cv=5, random_state=15)\n",
    "    find_elasticnet = RandomizedSearchCV(estimator =elasticnet, param_distributions=tests_elasticnet, n_iter=300, cv= 5, random_state=15)\n",
    "    \n",
    "    find_ridge.fit(x, y)\n",
    "    find_lasso.fit(x, y)\n",
    "    find_elasticnet.fit(x, y)\n",
    "    \n",
    "    list = {\n",
    "        'Regressão Linear': result_linear.mean(),\n",
    "        'Regressão Ridge': find_ridge.best_score_,\n",
    "        'Regressão Lasso': find_lasso.best_score_,\n",
    "        'Regressão Elastic Net': find_elasticnet.best_score_\n",
    "    }\n",
    "    maxi = max(list, key=list.get)\n",
    "    print(f'Best Model: {maxi}. Score: {list[maxi]}')\n",
    "    print(list)"
   ]
  },
  {
   "cell_type": "code",
   "execution_count": 4,
   "metadata": {},
   "outputs": [
    {
     "name": "stderr",
     "output_type": "stream",
     "text": [
      "c:\\Users\\leona\\AppData\\Local\\Programs\\Python\\Python312\\Lib\\site-packages\\sklearn\\model_selection\\_search.py:318: UserWarning: The total space of parameters 24 is smaller than n_iter=300. Running 24 iterations. For exhaustive searches, use GridSearchCV.\n",
      "  warnings.warn(\n",
      "c:\\Users\\leona\\AppData\\Local\\Programs\\Python\\Python312\\Lib\\site-packages\\sklearn\\model_selection\\_search.py:318: UserWarning: The total space of parameters 24 is smaller than n_iter=300. Running 24 iterations. For exhaustive searches, use GridSearchCV.\n",
      "  warnings.warn(\n"
     ]
    },
    {
     "name": "stdout",
     "output_type": "stream",
     "text": [
      "O melhor modelo foi o Regressão Linear, com resultado de 0.8108015220863887\n",
      "{'Regressão Linear': 0.8108015220863887, 'Regressão Ridge': 0.8107687068263548, 'Regressão Lasso': 0.6700370822606454, 'Regressão Elastic Net': 0.7819021542408082}\n"
     ]
    }
   ],
   "source": [
    "models(x, y)"
   ]
  }
 ],
 "metadata": {
  "kernelspec": {
   "display_name": "Python 3",
   "language": "python",
   "name": "python3"
  },
  "language_info": {
   "codemirror_mode": {
    "name": "ipython",
    "version": 3
   },
   "file_extension": ".py",
   "mimetype": "text/x-python",
   "name": "python",
   "nbconvert_exporter": "python",
   "pygments_lexer": "ipython3",
   "version": "3.12.2"
  }
 },
 "nbformat": 4,
 "nbformat_minor": 2
}
