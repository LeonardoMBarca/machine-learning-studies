{
 "cells": [
  {
   "cell_type": "code",
   "execution_count": 1,
   "metadata": {},
   "outputs": [],
   "source": [
    "import pandas as pd\n",
    "from sklearn.datasets import load_breast_cancer"
   ]
  },
  {
   "cell_type": "code",
   "execution_count": 2,
   "metadata": {},
   "outputs": [],
   "source": [
    "# Load the breast cancer dataset\n",
    "data = load_breast_cancer()"
   ]
  },
  {
   "cell_type": "code",
   "execution_count": 3,
   "metadata": {},
   "outputs": [],
   "source": [
    "# Create pandas DataFrame for features and pandas Series for target\n",
    "x = pd.DataFrame(data.data, columns=[data.feature_names])\n",
    "y = pd.Series(data.target)"
   ]
  },
  {
   "cell_type": "code",
   "execution_count": 4,
   "metadata": {},
   "outputs": [],
   "source": [
    "from sklearn.linear_model import LogisticRegression\n",
    "from sklearn.model_selection import train_test_split"
   ]
  },
  {
   "cell_type": "code",
   "execution_count": 5,
   "metadata": {},
   "outputs": [],
   "source": [
    "# Split the dataset into training and testing sets\n",
    "x_train, x_test, y_train, y_test = train_test_split(x, y, test_size=0.30, random_state=9)"
   ]
  },
  {
   "cell_type": "code",
   "execution_count": 6,
   "metadata": {},
   "outputs": [
    {
     "name": "stdout",
     "output_type": "stream",
     "text": [
      "Accuracy: 0.9415204678362573\n"
     ]
    }
   ],
   "source": [
    "# Initialize and train the logistic regression model\n",
    "model = LogisticRegression(max_iter=2000, tol=0.01)\n",
    "model.fit(x_train, y_train)\n",
    "\n",
    "# Calculate the accuracy of the model on the test set\n",
    "result = model.score(x_test, y_test)\n",
    "print(f'Accuracy: {result}')"
   ]
  },
  {
   "cell_type": "code",
   "execution_count": 7,
   "metadata": {},
   "outputs": [
    {
     "name": "stdout",
     "output_type": "stream",
     "text": [
      "[[4.90565363e-02 9.50943464e-01]\n",
      " [4.98131196e-01 5.01868804e-01]\n",
      " [1.00000000e+00 9.51997853e-11]\n",
      " [3.62508365e-02 9.63749164e-01]\n",
      " [2.98618585e-03 9.97013814e-01]\n",
      " [1.00000000e+00 6.98723503e-12]\n",
      " [1.00000000e+00 1.55743999e-11]\n",
      " [9.99999503e-01 4.96982552e-07]\n",
      " [1.03182708e-02 9.89681729e-01]\n",
      " [9.99850301e-01 1.49698685e-04]\n",
      " [9.99999998e-01 2.10041836e-09]\n",
      " [1.37052108e-02 9.86294789e-01]\n",
      " [8.02968392e-04 9.99197032e-01]\n",
      " [3.01703945e-03 9.96982961e-01]\n",
      " [9.96008526e-01 3.99147372e-03]\n",
      " [1.03016454e-01 8.96983546e-01]\n",
      " [7.54421111e-04 9.99245579e-01]\n",
      " [7.22430117e-02 9.27756988e-01]\n",
      " [1.56342814e-04 9.99843657e-01]\n",
      " [6.04015436e-04 9.99395985e-01]\n",
      " [1.00000000e+00 5.17490304e-27]\n",
      " [9.54295066e-04 9.99045705e-01]\n",
      " [7.33555481e-03 9.92664445e-01]\n",
      " [9.99991005e-01 8.99467752e-06]\n",
      " [1.43230576e-02 9.85676942e-01]\n",
      " [3.38391649e-02 9.66160835e-01]\n",
      " [5.59208009e-02 9.44079199e-01]\n",
      " [3.84395813e-04 9.99615604e-01]\n",
      " [7.96230215e-03 9.92037698e-01]\n",
      " [9.99999996e-01 4.37858099e-09]\n",
      " [9.99999999e-01 7.80877299e-10]\n",
      " [6.88656155e-02 9.31134384e-01]\n",
      " [8.08024914e-01 1.91975086e-01]\n",
      " [3.92299761e-01 6.07700239e-01]\n",
      " [9.98602681e-01 1.39731900e-03]\n",
      " [9.99999999e-01 7.61868977e-10]\n",
      " [9.99999940e-01 6.01692055e-08]\n",
      " [8.74135945e-02 9.12586405e-01]\n",
      " [9.99374014e-01 6.25986201e-04]\n",
      " [1.48139204e-03 9.98518608e-01]\n",
      " [4.75305610e-01 5.24694390e-01]\n",
      " [9.39339440e-02 9.06066056e-01]\n",
      " [5.07628684e-02 9.49237132e-01]\n",
      " [2.62653948e-04 9.99737346e-01]\n",
      " [6.34487782e-03 9.93655122e-01]\n",
      " [4.22799635e-04 9.99577200e-01]\n",
      " [2.19410537e-01 7.80589463e-01]\n",
      " [1.00000000e+00 1.71040223e-14]\n",
      " [2.81847511e-01 7.18152489e-01]\n",
      " [9.92812630e-01 7.18736951e-03]\n",
      " [4.62710501e-01 5.37289499e-01]\n",
      " [4.29462171e-02 9.57053783e-01]\n",
      " [2.53499038e-03 9.97465010e-01]\n",
      " [2.73324384e-03 9.97266756e-01]\n",
      " [1.00000000e+00 7.52128258e-11]\n",
      " [1.00313415e-03 9.98996866e-01]\n",
      " [1.38768146e-03 9.98612319e-01]\n",
      " [1.00000000e+00 9.60162019e-12]\n",
      " [1.65168989e-03 9.98348310e-01]\n",
      " [7.77023674e-03 9.92229763e-01]\n",
      " [6.42497211e-01 3.57502789e-01]\n",
      " [9.63481882e-01 3.65181182e-02]\n",
      " [1.00000000e+00 9.09892806e-13]\n",
      " [3.23245495e-03 9.96767545e-01]\n",
      " [2.44235703e-03 9.97557643e-01]\n",
      " [2.61313544e-02 9.73868646e-01]\n",
      " [1.00000000e+00 3.29476689e-32]\n",
      " [5.74137190e-03 9.94258628e-01]\n",
      " [8.58296093e-01 1.41703907e-01]\n",
      " [2.09017508e-04 9.99790982e-01]\n",
      " [1.83368067e-01 8.16631933e-01]\n",
      " [3.30374168e-03 9.96696258e-01]\n",
      " [1.45519026e-03 9.98544810e-01]\n",
      " [1.52639596e-03 9.98473604e-01]\n",
      " [9.99988722e-01 1.12779547e-05]\n",
      " [8.52245288e-01 1.47754712e-01]\n",
      " [2.08909194e-04 9.99791091e-01]\n",
      " [3.74540501e-04 9.99625459e-01]\n",
      " [4.08660051e-04 9.99591340e-01]\n",
      " [6.26489258e-04 9.99373511e-01]\n",
      " [3.65123902e-02 9.63487610e-01]\n",
      " [1.05956262e-01 8.94043738e-01]\n",
      " [1.37768132e-01 8.62231868e-01]\n",
      " [9.99999923e-01 7.74301090e-08]\n",
      " [7.48864053e-03 9.92511359e-01]\n",
      " [1.06032128e-02 9.89396787e-01]\n",
      " [4.68232726e-02 9.53176727e-01]\n",
      " [8.02730115e-04 9.99197270e-01]\n",
      " [1.00000000e+00 2.77051130e-10]\n",
      " [6.18188486e-03 9.93818115e-01]\n",
      " [2.38832796e-04 9.99761167e-01]\n",
      " [2.00333429e-03 9.97996666e-01]\n",
      " [3.48229412e-03 9.96517706e-01]\n",
      " [1.18835480e-01 8.81164520e-01]\n",
      " [3.22730236e-04 9.99677270e-01]\n",
      " [9.99998472e-01 1.52770522e-06]\n",
      " [2.10230669e-02 9.78976933e-01]\n",
      " [8.89423257e-03 9.91105767e-01]\n",
      " [2.72584405e-03 9.97274156e-01]\n",
      " [9.99999998e-01 1.80161152e-09]\n",
      " [8.69107596e-03 9.91308924e-01]\n",
      " [9.99991671e-01 8.32898741e-06]\n",
      " [8.54285154e-05 9.99914571e-01]\n",
      " [1.96571854e-04 9.99803428e-01]\n",
      " [1.01646195e-03 9.98983538e-01]\n",
      " [1.50956994e-04 9.99849043e-01]\n",
      " [9.99546045e-01 4.53955492e-04]\n",
      " [8.79070367e-01 1.20929633e-01]\n",
      " [1.01322141e-01 8.98677859e-01]\n",
      " [3.35797922e-03 9.96642021e-01]\n",
      " [8.56670685e-03 9.91433293e-01]\n",
      " [9.69478908e-04 9.99030521e-01]\n",
      " [2.31385180e-04 9.99768615e-01]\n",
      " [9.99999992e-01 8.31016227e-09]\n",
      " [1.26487308e-02 9.87351269e-01]\n",
      " [2.27327277e-03 9.97726727e-01]\n",
      " [1.08484736e-01 8.91515264e-01]\n",
      " [8.28935459e-03 9.91710645e-01]\n",
      " [1.00000000e+00 2.47024350e-22]\n",
      " [1.35715400e-03 9.98642846e-01]\n",
      " [9.99999891e-01 1.09108259e-07]\n",
      " [9.26818460e-01 7.31815400e-02]\n",
      " [2.07261548e-03 9.97927385e-01]\n",
      " [3.88375460e-03 9.96116245e-01]\n",
      " [1.00000000e+00 1.20836991e-17]\n",
      " [2.69571946e-04 9.99730428e-01]\n",
      " [5.18438211e-03 9.94815618e-01]\n",
      " [1.46736426e-02 9.85326357e-01]\n",
      " [4.62300004e-01 5.37699996e-01]\n",
      " [9.99826992e-01 1.73008175e-04]\n",
      " [9.99999969e-01 3.09192398e-08]\n",
      " [9.99999960e-01 3.95747360e-08]\n",
      " [9.99889840e-01 1.10160285e-04]\n",
      " [9.99375158e-01 6.24842388e-04]\n",
      " [1.10541714e-02 9.88945829e-01]\n",
      " [3.15761222e-03 9.96842388e-01]\n",
      " [6.30998125e-03 9.93690019e-01]\n",
      " [7.67495692e-03 9.92325043e-01]\n",
      " [1.35419153e-02 9.86458085e-01]\n",
      " [1.00000000e+00 8.28758677e-18]\n",
      " [1.73325463e-03 9.98266745e-01]\n",
      " [9.99999431e-01 5.68545376e-07]\n",
      " [9.88811798e-01 1.11882023e-02]\n",
      " [3.74648235e-02 9.62535176e-01]\n",
      " [5.51047199e-04 9.99448953e-01]\n",
      " [1.93797212e-02 9.80620279e-01]\n",
      " [9.99998965e-01 1.03476767e-06]\n",
      " [1.00000000e+00 5.01217854e-21]\n",
      " [4.66900768e-03 9.95330992e-01]\n",
      " [5.70447301e-03 9.94295527e-01]\n",
      " [6.66505111e-01 3.33494889e-01]\n",
      " [1.27585498e-03 9.98724145e-01]\n",
      " [9.72805188e-01 2.71948116e-02]\n",
      " [1.05974349e-03 9.98940257e-01]\n",
      " [7.50929927e-02 9.24907007e-01]\n",
      " [9.27619566e-01 7.23804340e-02]\n",
      " [9.19417257e-03 9.90805827e-01]\n",
      " [1.63353998e-03 9.98366460e-01]\n",
      " [1.00000000e+00 4.00717492e-13]\n",
      " [3.81018179e-04 9.99618982e-01]\n",
      " [7.78811434e-03 9.92211886e-01]\n",
      " [4.99116430e-01 5.00883570e-01]\n",
      " [8.62222356e-01 1.37777644e-01]\n",
      " [1.00000000e+00 7.67043690e-25]\n",
      " [4.08496545e-03 9.95915035e-01]\n",
      " [4.26510047e-04 9.99573490e-01]\n",
      " [1.00000000e+00 8.04574703e-14]\n",
      " [1.31053131e-03 9.98689469e-01]\n",
      " [7.42613698e-04 9.99257386e-01]\n",
      " [5.71023590e-05 9.99942898e-01]\n",
      " [6.33627212e-04 9.99366373e-01]]\n"
     ]
    }
   ],
   "source": [
    "# Predict probabilities for each class on the test set\n",
    "predicted_proba = model.predict_proba(x_test)\n",
    "print(predicted_proba)"
   ]
  },
  {
   "cell_type": "code",
   "execution_count": 8,
   "metadata": {},
   "outputs": [],
   "source": [
    "import numpy as np"
   ]
  },
  {
   "cell_type": "code",
   "execution_count": 9,
   "metadata": {},
   "outputs": [
    {
     "name": "stdout",
     "output_type": "stream",
     "text": [
      "     Predicted Class  Probability for Class 0  Probability for Class 1\n",
      "0                1.0                 0.049057             9.509435e-01\n",
      "1                1.0                 0.498131             5.018688e-01\n",
      "2                0.0                 1.000000             9.519979e-11\n",
      "3                1.0                 0.036251             9.637492e-01\n",
      "4                1.0                 0.002986             9.970138e-01\n",
      "..               ...                      ...                      ...\n",
      "166              0.0                 1.000000             8.045747e-14\n",
      "167              1.0                 0.001311             9.986895e-01\n",
      "168              1.0                 0.000743             9.992574e-01\n",
      "169              1.0                 0.000057             9.999429e-01\n",
      "170              1.0                 0.000634             9.993664e-01\n",
      "\n",
      "[171 rows x 3 columns]\n"
     ]
    }
   ],
   "source": [
    "# Predict classes for the test set\n",
    "predicted_class = model.predict(x_test)\n",
    "\n",
    "# Create a DataFrame with predicted classes and probabilities\n",
    "result_df = pd.DataFrame(np.column_stack((predicted_class, predicted_proba)), columns=[\"Predicted Class\", \"Probability for Class 0\", \"Probability for Class 1\"])\n",
    "\n",
    "print(result_df)"
   ]
  },
  {
   "cell_type": "code",
   "execution_count": 10,
   "metadata": {},
   "outputs": [],
   "source": [
    "# Create a var with only first columns of predicted_proba \n",
    "probs = predicted_proba[:,1]"
   ]
  },
  {
   "cell_type": "code",
   "execution_count": 11,
   "metadata": {},
   "outputs": [],
   "source": [
    "# Import the roc_curve\n",
    "from sklearn.metrics import roc_curve"
   ]
  },
  {
   "cell_type": "code",
   "execution_count": 12,
   "metadata": {},
   "outputs": [
    {
     "name": "stdout",
     "output_type": "stream",
     "text": [
      "TPR: [0.         0.00917431 0.8440367  0.8440367  0.9266055  0.9266055\n",
      " 0.96330275 0.96330275 0.97247706 0.97247706 0.98165138 0.98165138\n",
      " 1.         1.        ]. FPR: [0.         0.         0.         0.01612903 0.01612903 0.03225806\n",
      " 0.03225806 0.0483871  0.0483871  0.09677419 0.09677419 0.20967742\n",
      " 0.20967742 1.        ]. Thresholds: [           inf 9.99942898e-01 9.53176727e-01 9.50943464e-01\n",
      " 8.96983546e-01 8.94043738e-01 8.16631933e-01 7.80589463e-01\n",
      " 7.18152489e-01 5.37289499e-01 5.24694390e-01 1.41703907e-01\n",
      " 1.20929633e-01 3.29476689e-32]\n"
     ]
    }
   ],
   "source": [
    "\n",
    "# Calculate the TPR, FPR and Thresholds\n",
    "fpr, tpr, thresholds = roc_curve(y_test, probs)\n",
    "\n",
    "print(f'TPR: {tpr}. FPR: {fpr}. Thresholds: {thresholds}')"
   ]
  },
  {
   "cell_type": "code",
   "execution_count": 13,
   "metadata": {},
   "outputs": [],
   "source": [
    "import matplotlib.pyplot as plt"
   ]
  },
  {
   "cell_type": "code",
   "execution_count": 14,
   "metadata": {},
   "outputs": [
    {
     "data": {
      "image/png": "[encoded data removed]",
      "text/plain": [
       "<Figure size 640x480 with 1 Axes>"
      ]
     },
     "metadata": {},
     "output_type": "display_data"
    }
   ],
   "source": [
    "# Show data\n",
    "plt.scatter(fpr, tpr)\n",
    "plt.show()"
   ]
  },
  {
   "cell_type": "code",
   "execution_count": 15,
   "metadata": {},
   "outputs": [],
   "source": [
    "# Import the roc_auc_\n",
    "from sklearn.metrics import roc_auc_score"
   ]
  },
  {
   "cell_type": "code",
   "execution_count": 16,
   "metadata": {},
   "outputs": [
    {
     "name": "stdout",
     "output_type": "stream",
     "text": [
      "0.9923054158034921\n"
     ]
    }
   ],
   "source": [
    "# show the auc score\n",
    "print(roc_auc_score(y_test, probs))"
   ]
  }
 ],
 "metadata": {
  "kernelspec": {
   "display_name": "Python 3",
   "language": "python",
   "name": "python3"
  },
  "language_info": {
   "codemirror_mode": {
    "name": "ipython",
    "version": 3
   },
   "file_extension": ".py",
   "mimetype": "text/x-python",
   "name": "python",
   "nbconvert_exporter": "python",
   "pygments_lexer": "ipython3",
   "version": "3.12.2"
  }
 },
 "nbformat": 4,
 "nbformat_minor": 2
}
